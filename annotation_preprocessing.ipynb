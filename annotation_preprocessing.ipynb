{
 "cells": [
  {
   "cell_type": "code",
   "execution_count": 102,
   "metadata": {},
   "outputs": [],
   "source": [
    "import pandas as pd\n",
    "a1 = pd.read_csv('data/Annotation_2024_04_team_1 - Avishai.csv')\n",
    "b1 = pd.read_csv('data/Annotation_2024_04_team_1 - Paulina.csv')\n",
    "c1 = pd.read_csv('data/Annotation_2024_04_team_1 - Xiaoyue.csv')"
   ]
  },
  {
   "cell_type": "code",
   "execution_count": 103,
   "metadata": {},
   "outputs": [],
   "source": [
    "a2 = pd.read_csv('data/Annotation_2024_04_team_2 - Anke.csv')\n",
    "b2 = pd.read_csv('data/Annotation_2024_04_team_2 - Hendrik.csv')\n",
    "c2 = pd.read_csv('data/Annotation_2024_04_team_2 - Myrthe.csv')"
   ]
  },
  {
   "cell_type": "code",
   "execution_count": 104,
   "metadata": {},
   "outputs": [],
   "source": [
    "core1 = a1[['number', 'comment_id', 'post_title', 'comment_body']]\n",
    "core2 = a2[['number', 'comment_id', 'post_title', 'comment_body']]"
   ]
  },
  {
   "cell_type": "code",
   "execution_count": 106,
   "metadata": {},
   "outputs": [],
   "source": [
    "# drop the columns using a fuction to avoid repetition\n",
    "def drop_columns(df):\n",
    "    df.drop(columns=['number', 'comment_id', 'post_title', 'comment_body','comments'], inplace=True)\n",
    "    return df\n",
    "\n",
    "a1 = drop_columns(a1)\n",
    "b1 = drop_columns(b1)\n",
    "c1 = drop_columns(c1)\n",
    "a2 = drop_columns(a2)\n",
    "b2 = drop_columns(b2)\n",
    "c2 = drop_columns(c2)"
   ]
  },
  {
   "cell_type": "code",
   "execution_count": 107,
   "metadata": {},
   "outputs": [],
   "source": [
    "# write a function that drops the row of a dataframe if column Q1 is NaN\n",
    "def drop_nan(df):\n",
    "    df.dropna(subset=['Q1'], inplace=True)\n",
    "    return df\n",
    "\n",
    "a1 = drop_nan(a1)\n",
    "b1 = drop_nan(b1)\n",
    "c1 = drop_nan(c1)\n",
    "\n",
    "# Change the type of the column Q1 to integer\n",
    "a1['Q1'] = a1['Q1'].astype(int) \n",
    "b1['Q1'] = b1['Q1'].astype(int) \n",
    "c1['Q1'] = c1['Q1'].astype(int) \n",
    "\n",
    "# Create a new column that only contains tha first two values of the string in column Q2\n",
    "a1['Q3'] = a1['Q2'].str[:1]\n",
    "b1['Q3'] = b1['Q2'].str[:1]\n",
    "c1['Q3'] = c1['Q2'].str[:1]\n",
    "\n",
    "# Change the value of the row with index 39 in a1 to 'B. Political hypocrisy' and 'B' in column Q2 and Q3 respectively\n",
    "a1[a1['Q3'] == '1'].index\n",
    "a1.at[39, 'Q2'] = \"B. Political hypocrisy\"\n",
    "a1.at[39, 'Q3'] = 'B'\n",
    "\n",
    "# Create a new column where if the value in Q1 is 0, the value in Q4 is 0, else keep the value of Q3\n",
    "a1['Q4'] = a1['Q3']\n",
    "a1.loc[a1['Q1'] == 0, 'Q4'] = 0\n",
    "\n",
    "b1['Q4'] = b1['Q3']\n",
    "b1.loc[b1['Q1'] == 0, 'Q4'] = 0\n",
    "\n",
    "c1['Q4'] = c1['Q3']\n",
    "c1.loc[c1['Q1'] == 0, 'Q4'] = 0\n",
    "\n",
    "# Create a new column in core1 that contains the values of Q4 from a1, b1 and c1\n",
    "core1['QA1'] = a1['Q4']\n",
    "core1['QB1'] = b1['Q4']\n",
    "core1['QC1'] = c1['Q4']"
   ]
  },
  {
   "cell_type": "code",
   "execution_count": 115,
   "metadata": {},
   "outputs": [],
   "source": [
    "# drop the columns using a fuction to avoid repetition\n",
    "a2 = drop_nan(a2)\n",
    "b2 = drop_nan(b2)\n",
    "c2 = drop_nan(c2)\n",
    "\n",
    "# Change the type of the column Q1 to integer\n",
    "a2['Q1'] = a2['Q1'].astype(int) \n",
    "b2['Q1'] = b2['Q1'].astype(int) \n",
    "c2['Q1'] = c2['Q1'].astype(int) \n",
    "\n",
    "# Create a new column that only contains tha first two values of the string in column Q2\n",
    "a2['Q3'] = a2['Q2'].str[:1]\n",
    "b2['Q3'] = b2['Q2'].str[:1]\n",
    "c2['Q3'] = c2['Q2'].str[:1]"
   ]
  },
  {
   "cell_type": "code",
   "execution_count": 121,
   "metadata": {},
   "outputs": [
    {
     "name": "stderr",
     "output_type": "stream",
     "text": [
      "/var/folders/n5/y53yj96j3d7bsb54xrzys8s40000gn/T/ipykernel_1343/219116078.py:12: SettingWithCopyWarning: \n",
      "A value is trying to be set on a copy of a slice from a DataFrame.\n",
      "Try using .loc[row_indexer,col_indexer] = value instead\n",
      "\n",
      "See the caveats in the documentation: https://pandas.pydata.org/pandas-docs/stable/user_guide/indexing.html#returning-a-view-versus-a-copy\n",
      "  core2['QA1'] = a2['Q4']\n",
      "/var/folders/n5/y53yj96j3d7bsb54xrzys8s40000gn/T/ipykernel_1343/219116078.py:13: SettingWithCopyWarning: \n",
      "A value is trying to be set on a copy of a slice from a DataFrame.\n",
      "Try using .loc[row_indexer,col_indexer] = value instead\n",
      "\n",
      "See the caveats in the documentation: https://pandas.pydata.org/pandas-docs/stable/user_guide/indexing.html#returning-a-view-versus-a-copy\n",
      "  core2['QB1'] = b2['Q4']\n",
      "/var/folders/n5/y53yj96j3d7bsb54xrzys8s40000gn/T/ipykernel_1343/219116078.py:14: SettingWithCopyWarning: \n",
      "A value is trying to be set on a copy of a slice from a DataFrame.\n",
      "Try using .loc[row_indexer,col_indexer] = value instead\n",
      "\n",
      "See the caveats in the documentation: https://pandas.pydata.org/pandas-docs/stable/user_guide/indexing.html#returning-a-view-versus-a-copy\n",
      "  core2['QC1'] = c2['Q4']\n"
     ]
    }
   ],
   "source": [
    "# Create a new column where if the value in Q1 is 0, the value in Q4 is 0, else keep the value of Q3\n",
    "a2['Q4'] = a2['Q3']\n",
    "a2.loc[a1['Q1'] == 0, 'Q4'] = 0\n",
    "\n",
    "b2['Q4'] = b2['Q3']\n",
    "b2.loc[b1['Q1'] == 0, 'Q4'] = 0\n",
    "\n",
    "c2['Q4'] = c2['Q3']\n",
    "c2.loc[c2['Q1'] == 0, 'Q4'] = 0\n",
    "\n",
    "# Create a new column in core1 that contains the values of Q4 from a2, b2 and c2\n",
    "core2['QA1'] = a2['Q4']\n",
    "core2['QB1'] = b2['Q4']\n",
    "core2['QC1'] = c2['Q4']"
   ]
  },
  {
   "cell_type": "code",
   "execution_count": 122,
   "metadata": {},
   "outputs": [
    {
     "data": {
      "text/html": [
       "<div>\n",
       "<style scoped>\n",
       "    .dataframe tbody tr th:only-of-type {\n",
       "        vertical-align: middle;\n",
       "    }\n",
       "\n",
       "    .dataframe tbody tr th {\n",
       "        vertical-align: top;\n",
       "    }\n",
       "\n",
       "    .dataframe thead th {\n",
       "        text-align: right;\n",
       "    }\n",
       "</style>\n",
       "<table border=\"1\" class=\"dataframe\">\n",
       "  <thead>\n",
       "    <tr style=\"text-align: right;\">\n",
       "      <th></th>\n",
       "      <th>number</th>\n",
       "      <th>comment_id</th>\n",
       "      <th>post_title</th>\n",
       "      <th>comment_body</th>\n",
       "      <th>QA1</th>\n",
       "      <th>QB1</th>\n",
       "      <th>QC1</th>\n",
       "    </tr>\n",
       "  </thead>\n",
       "  <tbody>\n",
       "    <tr>\n",
       "      <th>0</th>\n",
       "      <td>1</td>\n",
       "      <td>dq5q44r</td>\n",
       "      <td>From cola to tomatoes, EU to embrace CO2 recyc...</td>\n",
       "      <td>\\nROTTERDAM, 1. NOV, 09:21\\nFollowing an indus...</td>\n",
       "      <td>0</td>\n",
       "      <td>0</td>\n",
       "      <td>0</td>\n",
       "    </tr>\n",
       "    <tr>\n",
       "      <th>1</th>\n",
       "      <td>2</td>\n",
       "      <td>iifuuzl</td>\n",
       "      <td>NaN</td>\n",
       "      <td>I have no problem with rich people spending th...</td>\n",
       "      <td>A</td>\n",
       "      <td>A</td>\n",
       "      <td>A</td>\n",
       "    </tr>\n",
       "    <tr>\n",
       "      <th>2</th>\n",
       "      <td>3</td>\n",
       "      <td>gph3uin</td>\n",
       "      <td>Finland - Finnish Green Party change stance an...</td>\n",
       "      <td>It's very pretentious from them. I believe tha...</td>\n",
       "      <td>0</td>\n",
       "      <td>0</td>\n",
       "      <td>B</td>\n",
       "    </tr>\n",
       "    <tr>\n",
       "      <th>3</th>\n",
       "      <td>4</td>\n",
       "      <td>iodc54w</td>\n",
       "      <td>Very high recycling rates were recorded in Ita...</td>\n",
       "      <td>Exactly the same in Ireland, there was an inve...</td>\n",
       "      <td>0</td>\n",
       "      <td>0</td>\n",
       "      <td>0</td>\n",
       "    </tr>\n",
       "    <tr>\n",
       "      <th>4</th>\n",
       "      <td>5</td>\n",
       "      <td>i1m2wck</td>\n",
       "      <td>NaN</td>\n",
       "      <td>&amp;gt; So the women who have come out and said t...</td>\n",
       "      <td>0</td>\n",
       "      <td>A</td>\n",
       "      <td>0</td>\n",
       "    </tr>\n",
       "    <tr>\n",
       "      <th>...</th>\n",
       "      <td>...</td>\n",
       "      <td>...</td>\n",
       "      <td>...</td>\n",
       "      <td>...</td>\n",
       "      <td>...</td>\n",
       "      <td>...</td>\n",
       "      <td>...</td>\n",
       "    </tr>\n",
       "    <tr>\n",
       "      <th>205</th>\n",
       "      <td>206</td>\n",
       "      <td>hnpuz2u</td>\n",
       "      <td>Germany responding to news of Nuclear being in...</td>\n",
       "      <td>Fossil gas being classified as 'green'? Come o...</td>\n",
       "      <td>NaN</td>\n",
       "      <td>0</td>\n",
       "      <td>0</td>\n",
       "    </tr>\n",
       "    <tr>\n",
       "      <th>206</th>\n",
       "      <td>207</td>\n",
       "      <td>emurgfk</td>\n",
       "      <td>Plan for 25% of EU budget to fight climate change</td>\n",
       "      <td>Germany should not be shoving all the nasty st...</td>\n",
       "      <td>NaN</td>\n",
       "      <td>NaN</td>\n",
       "      <td>0</td>\n",
       "    </tr>\n",
       "    <tr>\n",
       "      <th>207</th>\n",
       "      <td>208</td>\n",
       "      <td>dzw2iuw</td>\n",
       "      <td>NaN</td>\n",
       "      <td>&amp;gt; If younger going to use government to sol...</td>\n",
       "      <td>NaN</td>\n",
       "      <td>0</td>\n",
       "      <td>0</td>\n",
       "    </tr>\n",
       "    <tr>\n",
       "      <th>208</th>\n",
       "      <td>209</td>\n",
       "      <td>hdcwyx6</td>\n",
       "      <td>Climate change performance index of the countr...</td>\n",
       "      <td>Never said it's not the lesser evil, but it's ...</td>\n",
       "      <td>NaN</td>\n",
       "      <td>NaN</td>\n",
       "      <td>0</td>\n",
       "    </tr>\n",
       "    <tr>\n",
       "      <th>209</th>\n",
       "      <td>210</td>\n",
       "      <td>d1g89j0</td>\n",
       "      <td>NaN</td>\n",
       "      <td>You are looking at what they say, not what the...</td>\n",
       "      <td>NaN</td>\n",
       "      <td>0</td>\n",
       "      <td>B</td>\n",
       "    </tr>\n",
       "  </tbody>\n",
       "</table>\n",
       "<p>210 rows × 7 columns</p>\n",
       "</div>"
      ],
      "text/plain": [
       "     number comment_id                                         post_title  \\\n",
       "0         1    dq5q44r  From cola to tomatoes, EU to embrace CO2 recyc...   \n",
       "1         2    iifuuzl                                                NaN   \n",
       "2         3    gph3uin  Finland - Finnish Green Party change stance an...   \n",
       "3         4    iodc54w  Very high recycling rates were recorded in Ita...   \n",
       "4         5    i1m2wck                                                NaN   \n",
       "..      ...        ...                                                ...   \n",
       "205     206    hnpuz2u  Germany responding to news of Nuclear being in...   \n",
       "206     207    emurgfk  Plan for 25% of EU budget to fight climate change   \n",
       "207     208    dzw2iuw                                                NaN   \n",
       "208     209    hdcwyx6  Climate change performance index of the countr...   \n",
       "209     210    d1g89j0                                                NaN   \n",
       "\n",
       "                                          comment_body  QA1  QB1 QC1  \n",
       "0    \\nROTTERDAM, 1. NOV, 09:21\\nFollowing an indus...    0    0   0  \n",
       "1    I have no problem with rich people spending th...    A    A   A  \n",
       "2    It's very pretentious from them. I believe tha...    0    0   B  \n",
       "3    Exactly the same in Ireland, there was an inve...    0    0   0  \n",
       "4    &gt; So the women who have come out and said t...    0    A   0  \n",
       "..                                                 ...  ...  ...  ..  \n",
       "205  Fossil gas being classified as 'green'? Come o...  NaN    0   0  \n",
       "206  Germany should not be shoving all the nasty st...  NaN  NaN   0  \n",
       "207  &gt; If younger going to use government to sol...  NaN    0   0  \n",
       "208  Never said it's not the lesser evil, but it's ...  NaN  NaN   0  \n",
       "209  You are looking at what they say, not what the...  NaN    0   B  \n",
       "\n",
       "[210 rows x 7 columns]"
      ]
     },
     "execution_count": 122,
     "metadata": {},
     "output_type": "execute_result"
    }
   ],
   "source": [
    "core2"
   ]
  },
  {
   "cell_type": "code",
   "execution_count": 123,
   "metadata": {},
   "outputs": [
    {
     "name": "stderr",
     "output_type": "stream",
     "text": [
      "/var/folders/n5/y53yj96j3d7bsb54xrzys8s40000gn/T/ipykernel_1343/3277331947.py:8: SettingWithCopyWarning: \n",
      "A value is trying to be set on a copy of a slice from a DataFrame.\n",
      "Try using .loc[row_indexer,col_indexer] = value instead\n",
      "\n",
      "See the caveats in the documentation: https://pandas.pydata.org/pandas-docs/stable/user_guide/indexing.html#returning-a-view-versus-a-copy\n",
      "  core1['Label'] = core1.apply(compare, axis=1)\n",
      "/var/folders/n5/y53yj96j3d7bsb54xrzys8s40000gn/T/ipykernel_1343/3277331947.py:9: SettingWithCopyWarning: \n",
      "A value is trying to be set on a copy of a slice from a DataFrame.\n",
      "Try using .loc[row_indexer,col_indexer] = value instead\n",
      "\n",
      "See the caveats in the documentation: https://pandas.pydata.org/pandas-docs/stable/user_guide/indexing.html#returning-a-view-versus-a-copy\n",
      "  core2['Label'] = core2.apply(compare, axis=1)\n"
     ]
    }
   ],
   "source": [
    "# compare QA1, QB1 and QC1 if they are all the same then add that value to the column 'Label'\n",
    "def compare(df):\n",
    "    if df['QA1'] == df['QB1'] and df['QA1'] == df['QC1']:\n",
    "        return df['QA1']\n",
    "    else:\n",
    "        return 'disagreement'\n",
    "\n",
    "core1['Label'] = core1.apply(compare, axis=1)\n",
    "core2['Label'] = core2.apply(compare, axis=1)"
   ]
  },
  {
   "cell_type": "code",
   "execution_count": 126,
   "metadata": {},
   "outputs": [],
   "source": [
    "core1.to_csv('data/Annotation_2024_04_team_1_merged.csv', index=False)\n",
    "core2.to_csv('data/Annotation_2024_04_team_2_merged.csv', index=False)"
   ]
  },
  {
   "cell_type": "code",
   "execution_count": 1,
   "metadata": {},
   "outputs": [],
   "source": [
    "import pandas as pd"
   ]
  },
  {
   "cell_type": "code",
   "execution_count": 2,
   "metadata": {},
   "outputs": [
    {
     "name": "stdout",
     "output_type": "stream",
     "text": [
      "/Users/paulina/Desktop/hypo-hack/data\n"
     ]
    }
   ],
   "source": [
    "!pwd"
   ]
  },
  {
   "cell_type": "code",
   "execution_count": 47,
   "metadata": {},
   "outputs": [],
   "source": [
    "df1 = pd.read_csv('Annotation_2024_04_team_1_merged.csv')\n",
    "df2 = pd.read_csv('Annotation_2024_04_team_2_merged.csv')"
   ]
  },
  {
   "cell_type": "code",
   "execution_count": 48,
   "metadata": {},
   "outputs": [],
   "source": [
    "df = pd.concat([df1, df2])"
   ]
  },
  {
   "cell_type": "code",
   "execution_count": 49,
   "metadata": {},
   "outputs": [],
   "source": [
    "# Set the data type of columns QA1, QB1 and QC1 to strings\n",
    "df['QA1'] = df['QA1'].astype(str)\n",
    "df['QB1'] = df['QB1'].astype(str)\n",
    "df['QC1'] = df['QC1'].astype(str)\n"
   ]
  },
  {
   "cell_type": "code",
   "execution_count": 50,
   "metadata": {},
   "outputs": [
    {
     "data": {
      "text/plain": [
       "QA1\n",
       "0      186\n",
       "nan    126\n",
       "B       55\n",
       "A       46\n",
       "D        6\n",
       "C        1\n",
       "Name: count, dtype: int64"
      ]
     },
     "execution_count": 50,
     "metadata": {},
     "output_type": "execute_result"
    }
   ],
   "source": [
    "df.value_counts('QA1')"
   ]
  },
  {
   "cell_type": "code",
   "execution_count": 51,
   "metadata": {},
   "outputs": [],
   "source": [
    "# Dictionary to map old values to new values\n",
    "value_map = {'0': 0, 'A': 1, 'B': 2, 'C': 3, 'D': 4, 'nan': 5}\n",
    "\n",
    "# Replace values in specified columns\n",
    "df[['QA1', 'QB1', 'QC1']] = df[['QA1', 'QB1', 'QC1']].replace(value_map)"
   ]
  },
  {
   "cell_type": "code",
   "execution_count": 57,
   "metadata": {},
   "outputs": [],
   "source": [
    "def compute_mode(row):\n",
    "    modes = row.mode()\n",
    "    if len(modes) == 1:\n",
    "        return modes[0]\n",
    "    else:\n",
    "        return 'Disagreement'\n",
    "\n",
    "# Apply the function to each row\n",
    "df['mode'] = df[['QA1', 'QB1', 'QC1']].apply(compute_mode, axis=1)"
   ]
  },
  {
   "cell_type": "code",
   "execution_count": 62,
   "metadata": {},
   "outputs": [],
   "source": [
    "df1 = df[df['mode']!=5]\n",
    "df1 = df1[df1['mode']!='Disagreement']"
   ]
  },
  {
   "cell_type": "code",
   "execution_count": 65,
   "metadata": {},
   "outputs": [
    {
     "data": {
      "text/plain": [
       "mode\n",
       "0    221\n",
       "1     35\n",
       "2     35\n",
       "3      2\n",
       "Name: count, dtype: int64"
      ]
     },
     "execution_count": 65,
     "metadata": {},
     "output_type": "execute_result"
    }
   ],
   "source": [
    "df1['mode'].value_counts()"
   ]
  },
  {
   "cell_type": "code",
   "execution_count": null,
   "metadata": {},
   "outputs": [],
   "source": [
    "df1.to_csv('data/final_label_data.csv', index=False)"
   ]
  },
  {
   "cell_type": "code",
   "execution_count": 64,
   "metadata": {},
   "outputs": [],
   "source": [
    "# replace the values of the column 'mode' where 3 and 4 are replaced by 3\n",
    "df1['mode'] = df1['mode'].replace(4, 3)\n"
   ]
  },
  {
   "cell_type": "code",
   "execution_count": 67,
   "metadata": {},
   "outputs": [
    {
     "name": "stdout",
     "output_type": "stream",
     "text": [
      "/Users/paulina/Desktop/hypo-hack/data\n"
     ]
    }
   ],
   "source": [
    "!pwd"
   ]
  },
  {
   "cell_type": "code",
   "execution_count": 68,
   "metadata": {},
   "outputs": [],
   "source": [
    "df1.to_csv('./final_annotations_14062024.csv', index=False)"
   ]
  }
 ],
 "metadata": {
  "kernelspec": {
   "display_name": "Python 3",
   "language": "python",
   "name": "python3"
  },
  "language_info": {
   "codemirror_mode": {
    "name": "ipython",
    "version": 3
   },
   "file_extension": ".py",
   "mimetype": "text/x-python",
   "name": "python",
   "nbconvert_exporter": "python",
   "pygments_lexer": "ipython3",
   "version": "3.9.6"
  }
 },
 "nbformat": 4,
 "nbformat_minor": 2
}
