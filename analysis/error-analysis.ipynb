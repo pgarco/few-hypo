{
 "cells": [
  {
   "cell_type": "markdown",
   "metadata": {},
   "source": [
    "# Error Analysis\n",
    "\n",
    "Error analysis file for \"A Few Hypocrites: Few-Shot Learning and Subtype Definitions for Detecting Hypocrisy Accusations in Online Climate Change Debates\"\n",
    "Authors: Paulina Garcia Corral, Avishai Green, Hendrik Meyer, Anke Stoll, Xiaoyue Yan, Myrthe Reuver"
   ]
  },
  {
   "cell_type": "code",
   "execution_count": 95,
   "metadata": {},
   "outputs": [
    {
     "data": {
      "image/png": "[encoded data removed]",
      "text/plain": [
       "<Figure size 640x480 with 2 Axes>"
      ]
     },
     "metadata": {},
     "output_type": "display_data"
    }
   ],
   "source": [
    "import pandas as pd\n",
    "results = pd.read_csv('./your_path/few_hypo_llm_outputs.csv')\n",
    "\n",
    "from sklearn.metrics import ConfusionMatrixDisplay\n",
    "from matplotlib import pyplot as plt\n",
    "\n",
    "ConfusionMatrixDisplay.from_predictions(results[\"y\"], results[\"gpt35_y\"], display_labels=[\"No Accusation\", \"PMH\", \"PH\", \"Neither\"])\n",
    "plt.show()"
   ]
  },
  {
   "cell_type": "code",
   "execution_count": 96,
   "metadata": {},
   "outputs": [],
   "source": [
    "# create a column that says \"True\" if the Comment column has the regex pattern \"hypo\"\n",
    "results[\"hypo\"] = results[\"comment\"].str.contains(\"hypo*\", case=False, na=False)"
   ]
  },
  {
   "cell_type": "code",
   "execution_count": null,
   "metadata": {},
   "outputs": [],
   "source": [
    "# To save error analysis data for each model and error type\n",
    "\n",
    "model = \"gpt4\"\n",
    "predicted = f\"{model}_y\"\n",
    "rsn = f\"{model}_rsn\"\n",
    "\n",
    "\n",
    "sum = []\n",
    "for i in range(len(results)):\n",
    "    if results[\"y\"][i] == 2:\n",
    "        if results[predicted][i] == 1:\n",
    "            sum.append(i)\n",
    "print(len(sum))\n",
    "\n",
    "r = []\n",
    "for i in sum:\n",
    "    mod = model\n",
    "    comment = results[\"comment\"][i]\n",
    "    label = results[\"y\"][i]\n",
    "    hypo_regex = results[\"hypo\"][i]\n",
    "    predicted_label = results[predicted][i]\n",
    "    model_reasoning = results[rsn][i]\n",
    "    r.append([mod, comment, label, hypo_regex, predicted_label, model_reasoning])\n",
    "\n",
    "data_4 = pd.DataFrame(r, columns=[\"model\", \"comment\", \"label\", \"hypo_regex\", \"predicted_label\", \"model_reasoning\"])"
   ]
  },
  {
   "cell_type": "code",
   "execution_count": null,
   "metadata": {},
   "outputs": [],
   "source": [
    "# Get sklearn classification results for each model to visualize the performance of each model\n",
    "\n",
    "from sklearn.metrics import classification_report\n",
    "\n",
    "model = \"llama\"\n",
    "predicted = f\"{model}_y\"\n",
    "\n",
    "print(classification_report(results[\"y\"], results[predicted], target_names=[\"No Accusation\", \"PMH\", \"PH\", \"Neither\"]))\n",
    "\n",
    "col = [\"acc\", \"prec\", \"recall\", \"f1\"]\n",
    "gpt4 = [0.75,0.74,0.72,0.68]\n",
    "gpt35 = [0.83, 0.55, 0.49, 0.51]\n",
    "llama = [0.75, 0.72, 0.71, 0.67]\n",
    "\n",
    "# Create a dataframe with the results\n",
    "df = pd.DataFrame([gpt4, gpt35, llama], columns=col)"
   ]
  },
  {
   "cell_type": "code",
   "execution_count": null,
   "metadata": {},
   "outputs": [],
   "source": [
    "# Create a bar plot with the results where the x-axis are the metrics and the y-axis are the values and the hue are the models \n",
    "\n",
    "import matplotlib.pyplot as plt\n",
    "import seaborn as sns\n",
    "import pandas as pd\n",
    "\n",
    "# Data\n",
    "models = [\"LLama-3\", \"GPT-3.5\", \"GPT-4o\"]\n",
    "metrics = [\"Accuracy\", \"Precision\", \"Recall\", \"F1-Score\"]\n",
    "gpt4_scores = [0.75, 0.74, 0.72, 0.68]\n",
    "gpt35_scores = [0.83, 0.55, 0.49, 0.51]\n",
    "llama_scores = [0.75, 0.72, 0.71, 0.67]\n",
    "\n",
    "# Creating a DataFrame\n",
    "data = pd.DataFrame({\n",
    "    'Metrics': metrics * 3,\n",
    "    'Scores': llama_scores + gpt35_scores + gpt4_scores,\n",
    "    'Model': [\"LLama-3\"]*4 + [\"GPT-3.5\"]*4 + [\"GPT-4o\"]*4\n",
    "})\n",
    "\n",
    "# Plot\n",
    "plt.figure(figsize=(10, 6))\n",
    "sns.barplot(x='Metrics', y='Scores', hue='Model', data=data, palette=sns.color_palette(\"tab10\"))\n",
    "plt.title('Performance Metrics (macro average)', size = 20)\n",
    "plt.ylim(0, 1)\n",
    "plt.xlabel(\"Metrics\" , size = 15)\n",
    "plt.ylabel( \"Scores\" , size = 15) \n",
    "plt.xticks(size = 18)\n",
    "plt.yticks(size = 18)\n",
    "plt.legend(fontsize=\"15\", loc =\"upper right\")\n",
    "plt.show()"
   ]
  },
  {
   "cell_type": "code",
   "execution_count": null,
   "metadata": {},
   "outputs": [],
   "source": [
    "# Get counts for each label in the dataset\n",
    "\n",
    "print(results.y.value_counts())\n",
    "print(results.gpt4_y.value_counts())\n",
    "print(results.gpt35_y.value_counts())\n",
    "print(results.llama_y.value_counts())"
   ]
  },
  {
   "cell_type": "code",
   "execution_count": null,
   "metadata": {},
   "outputs": [],
   "source": [
    "# Get barplot of the distribution of the class predictions \n",
    "\n",
    "# Data\n",
    "categories = ['PMH', 'PH', 'Neither', 'No Accusation']\n",
    "ochac = [35, 35, 2, 221]\n",
    "gpt_4o = [84, 43, 1, 165]\n",
    "gpt_35 = [31, 21, 2, 239]\n",
    "llama = [64, 60, 1, 168]\n",
    "\n",
    "# Creating a DataFrame\n",
    "data_dist = pd.DataFrame({\n",
    "    'Categories': categories * 4,\n",
    "    'Count': ochac + gpt_4 + gpt_35 + llama,\n",
    "    'Source': ['CHAC']*4 + ['GPT-4o']*4 + ['GPT-3.5']*4 + ['LLama-3']*4\n",
    "})\n",
    "\n",
    "# Plot\n",
    "plt.figure(figsize=(10, 6))\n",
    "sns.barplot(x='Categories', y='Count', hue='Source', data=data_dist, palette=sns.color_palette(\"tab10\"))\n",
    "\n",
    "# Adding title and labels\n",
    "plt.title('Distribution of Class Predictions', size = 20)\n",
    "plt.ylim(0, 250)  # Setting the y limit\n",
    "plt.xlabel(\"Class Labels\" , size = 15)\n",
    "plt.xticks(size = 18)\n",
    "plt.yticks(size = 18)\n",
    "plt.legend(fontsize=\"15\", loc =\"upper left\")\n",
    "plt.show()\n"
   ]
  }
 ],
 "metadata": {
  "kernelspec": {
   "display_name": "Python 3",
   "language": "python",
   "name": "python3"
  },
  "language_info": {
   "codemirror_mode": {
    "name": "ipython",
    "version": 3
   },
   "file_extension": ".py",
   "mimetype": "text/x-python",
   "name": "python",
   "nbconvert_exporter": "python",
   "pygments_lexer": "ipython3",
   "version": "3.9.6"
  }
 },
 "nbformat": 4,
 "nbformat_minor": 2
}
